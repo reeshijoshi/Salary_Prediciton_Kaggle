{
 "cells": [
  {
   "cell_type": "markdown",
   "metadata": {},
   "source": [
    "Import all the relevant packages."
   ]
  },
  {
   "cell_type": "code",
   "execution_count": 1,
   "metadata": {},
   "outputs": [],
   "source": [
    "import pandas as pd\n",
    "import numpy as np\n",
    "from sklearn.ensemble import RandomForestRegressor\n",
    "import category_encoders as ce"
   ]
  },
  {
   "cell_type": "markdown",
   "metadata": {},
   "source": [
    "The <b>dropIrrelevantColumns</b> function drops following columns from the Datasets provided as an argument\n",
    "<ul>\n",
    "    <li>Wears Glasses</li>\n",
    "    <li>Hair Color</li>\n",
    "    <li>Instances</li>\n",
    "</ul>"
   ]
  },
  {
   "cell_type": "code",
   "execution_count": 2,
   "metadata": {},
   "outputs": [],
   "source": [
    "def dropIrrelevantColumns(data) :\n",
    "    data = data.drop('Wears Glasses', axis = 1)\n",
    "    data = data.drop('Hair Color', axis = 1)\n",
    "    data = data.drop('Instance', axis = 1)\n",
    "    return data"
   ]
  },
  {
   "cell_type": "markdown",
   "metadata": {},
   "source": [
    "<p>The <b>preprocessData</b> function is the most important function. It performs all the necessary imnputations and transformations needed to clean and preprocess the data.</p>\n",
    "The function takes 2 arguments:\n",
    "<ol>\n",
    "    <li>Training Dataset</li>\n",
    "    <li>Test Dataset</li>\n",
    "</ol>\n",
    "Following are the steps performed:\n",
    "<ol>\n",
    "    <li>Split the dataset into Independent and Dependent Variables</li>\n",
    "    <li>Add a new column to both datasets named <b>train</b>. Set the value as 1 for training dataset and set the value as 0 for test dataset. This variable will identify which entries belong to which dataset.</li>\n",
    "    <li>Combine the training and testing datasets. This is done because there are a few values in Test dataset, which do not belong in training dataset.</li>\n",
    "    <li>As part of preprocessing, following operations are performed.\n",
    "        <ol>\n",
    "            <li>Fill <i>NaN</i> in <b>Gender</b> as <i>unknown</i></li>\n",
    "            <li>Replace <i>0</i> in <b>Gender</b> as <i>unknown</i></li>\n",
    "            <li>Fill <i>NaN</i> in <b>University Degree</b> as <i>unknown</i></li>\n",
    "            <li>Replace <i>0</i> in <b>University Degree</b> as <i>unknown</i></li>\n",
    "            <li>Fill <i>NaN</i> in <b>Profession</b> with the <i>modal value</i></li>\n",
    "            <li>Fill <i>NaN</i> in <b>Country</b> with the <i>modal value</i></li>\n",
    "            <li>Fill <i>NaN</i> in <b>Age</b> with the <i>mean value</i></li>\n",
    "            <li>Fill <i>NaN</i> in <b>Year of Record</b> with the <i>mean value</i></li>\n",
    "            <li>Fill <i>NaN</i> in <b>Body Height [cm]</b> with the <i>mean value</i></li>\n",
    "            <li>Fill <i>NaN</i> in <b>Size of City</b> with the <i>mean value of the Size of City for the particular country and year.</i></li>\n",
    "            <li>Split the dataset back into Training and Testing datasets</li>\n",
    "            <li>Target Encode all the categorical data</li>\n",
    "        </ol>\n",
    "</ol>"
   ]
  },
  {
   "cell_type": "code",
   "execution_count": 3,
   "metadata": {},
   "outputs": [],
   "source": [
    "def preprocessData(data, data_test) :\n",
    "    X = pd.DataFrame(data.iloc[:, :-1])\n",
    "    X_test = pd.DataFrame(data_test.iloc[:, :-1])\n",
    "    Y = pd.DataFrame(data['Income in EUR'])\n",
    "\n",
    "    X['train'] = 1\n",
    "    X_test['train'] = 0\n",
    "    cmb = pd.concat([X, X_test])\n",
    "    del X\n",
    "    del X_test\n",
    "    \n",
    "    cmb['Gender'] = cmb['Gender'].fillna('unknown')\n",
    "    cmb['Gender'] = cmb['Gender'].replace('0', 'unknown')\n",
    "    cmb['University Degree'] = cmb['University Degree'].fillna('No')\n",
    "    cmb['University Degree'] = cmb['University Degree'].replace('0', 'No')\n",
    "    cmb['Profession'].fillna(cmb['Profession'].mode()[0], inplace=True)\n",
    "    cmb['Country'].fillna(cmb['Country'].mode()[0], inplace=True)\n",
    "    cmb['Age'].fillna(cmb['Age'].mean(), inplace=True)\n",
    "    cmb['Year of Record'].fillna(cmb['Year of Record'].median(), inplace=True)\n",
    "    cmb['Body Height [cm]'].fillna(cmb['Body Height [cm]'].mean(), inplace=True)\n",
    "    cmb['Size of City'] = cmb.apply(\n",
    "    lambda row: cmb['Size of City'].where(cmb['Country']==row['Country'] & cmb['Year of Record']==row['Year of Record']).mean() if np.isnan(row['Size of City']) else row['Size of City'],\n",
    "    axis=1)\n",
    "    te = ce.TargetEncoder()\n",
    "    X = cmb[cmb['train'] == 1]\n",
    "    X_test = cmb[cmb['train'] == 0]\n",
    "    X = te.fit_transform(X, Y, verbose = 1)\n",
    "    X_test = te.transform(X_test)\n",
    "    return (X,Y, X_test)"
   ]
  },
  {
   "cell_type": "markdown",
   "metadata": {},
   "source": [
    "Function calls to <b>dropIrrelevantColumns</b> and <b>preprocessData</b>"
   ]
  },
  {
   "cell_type": "code",
   "execution_count": 4,
   "metadata": {},
   "outputs": [],
   "source": [
    "data = pd.read_csv('data.csv')\n",
    "data_test = pd.read_csv('data_test.csv')\n",
    "data = dropIrrelevantColumns(data)\n",
    "data_test = dropIrrelevantColumns(data_test)\n",
    "X , Y , X_test = preprocessData(data, data_test)"
   ]
  },
  {
   "cell_type": "markdown",
   "metadata": {},
   "source": [
    "Once the preprocessing is done, next step is to fit the model to the regressor. Below is the code for prediction using RandomForestRegressor with 50 trees."
   ]
  },
  {
   "cell_type": "code",
   "execution_count": 5,
   "metadata": {},
   "outputs": [
    {
     "name": "stderr",
     "output_type": "stream",
     "text": [
      "C:\\Users\\reesh\\Anaconda3\\lib\\site-packages\\ipykernel_launcher.py:2: DataConversionWarning: A column-vector y was passed when a 1d array was expected. Please change the shape of y to (n_samples,), for example using ravel().\n",
      "  \n",
      "[Parallel(n_jobs=-1)]: Using backend ThreadingBackend with 12 concurrent workers.\n",
      "[Parallel(n_jobs=-1)]: Done  26 tasks      | elapsed:    2.3s\n",
      "[Parallel(n_jobs=-1)]: Done  50 out of  50 | elapsed:    3.6s finished\n",
      "[Parallel(n_jobs=12)]: Using backend ThreadingBackend with 12 concurrent workers.\n",
      "[Parallel(n_jobs=12)]: Done  26 tasks      | elapsed:    0.0s\n",
      "[Parallel(n_jobs=12)]: Done  50 out of  50 | elapsed:    0.1s finished\n"
     ]
    }
   ],
   "source": [
    "regressor = RandomForestRegressor(n_estimators=50, verbose=1, n_jobs=-1)\n",
    "regressor.fit(X, Y)\n",
    "Y_pred = regressor.predict(X_test)\n",
    "Y_pred = np.array(Y_pred)\n",
    "with open(\"PredictedSalary.csv\", \"w\") as file:\n",
    "    file.write(\"Instance,Income\"+\"\\n\")\n",
    "    for i in np.array(Y_pred) :\n",
    "        file.write(str(i+111994) + \",\" + str(i) + \"\\n\")"
   ]
  }
 ],
 "metadata": {
  "kernelspec": {
   "display_name": "Python 3",
   "language": "python",
   "name": "python3"
  },
  "language_info": {
   "codemirror_mode": {
    "name": "ipython",
    "version": 3
   },
   "file_extension": ".py",
   "mimetype": "text/x-python",
   "name": "python",
   "nbconvert_exporter": "python",
   "pygments_lexer": "ipython3",
   "version": "3.7.3"
  }
 },
 "nbformat": 4,
 "nbformat_minor": 2
}
